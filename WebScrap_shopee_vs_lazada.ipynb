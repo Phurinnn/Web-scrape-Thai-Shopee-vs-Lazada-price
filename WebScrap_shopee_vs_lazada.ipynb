{
  "nbformat": 4,
  "nbformat_minor": 0,
  "metadata": {
    "colab": {
      "name": "WebScrap v2",
      "provenance": [],
      "collapsed_sections": []
    },
    "kernelspec": {
      "name": "python3",
      "display_name": "Python 3"
    },
    "language_info": {
      "name": "python"
    }
  },
  "cells": [
    {
      "cell_type": "code",
      "metadata": {
        "colab": {
          "base_uri": "https://localhost:8080/"
        },
        "id": "9v-gyJvGDWmx",
        "outputId": "61e2281b-4e25-4f66-b86f-7e5886861666"
      },
      "source": [
        "!pip install selenium\n",
        "!apt-get update # to update ubuntu to correctly run apt install\n",
        "!apt install chromium-chromedriver\n",
        "!cp /usr/lib/chromium-browser/chromedriver /usr/bin\n",
        "import sys\n",
        "sys.path.insert(0,'/usr/lib/chromium-browser/chromedriver')\n",
        "from selenium import webdriver\n",
        "chrome_options = webdriver.ChromeOptions()\n",
        "chrome_options.add_argument('--headless')\n",
        "chrome_options.add_argument('--no-sandbox')\n",
        "chrome_options.add_argument('--disable-dev-shm-usage')\n",
        "wd = webdriver.Chrome('chromedriver',chrome_options=chrome_options)\n",
        "wd2 = webdriver.Chrome('chromedriver',chrome_options=chrome_options)\n",
        "wd3 = webdriver.Chrome('chromedriver',chrome_options=chrome_options)"
      ],
      "execution_count": null,
      "outputs": [
        {
          "output_type": "stream",
          "text": [
            "Collecting selenium\n",
            "\u001b[?25l  Downloading https://files.pythonhosted.org/packages/80/d6/4294f0b4bce4de0abf13e17190289f9d0613b0a44e5dd6a7f5ca98459853/selenium-3.141.0-py2.py3-none-any.whl (904kB)\n",
            "\r\u001b[K     |▍                               | 10kB 13.8MB/s eta 0:00:01\r\u001b[K     |▊                               | 20kB 18.4MB/s eta 0:00:01\r\u001b[K     |█                               | 30kB 22.0MB/s eta 0:00:01\r\u001b[K     |█▌                              | 40kB 24.2MB/s eta 0:00:01\r\u001b[K     |█▉                              | 51kB 26.4MB/s eta 0:00:01\r\u001b[K     |██▏                             | 61kB 28.7MB/s eta 0:00:01\r\u001b[K     |██▌                             | 71kB 29.1MB/s eta 0:00:01\r\u001b[K     |███                             | 81kB 30.2MB/s eta 0:00:01\r\u001b[K     |███▎                            | 92kB 30.8MB/s eta 0:00:01\r\u001b[K     |███▋                            | 102kB 32.2MB/s eta 0:00:01\r\u001b[K     |████                            | 112kB 32.2MB/s eta 0:00:01\r\u001b[K     |████▍                           | 122kB 32.2MB/s eta 0:00:01\r\u001b[K     |████▊                           | 133kB 32.2MB/s eta 0:00:01\r\u001b[K     |█████                           | 143kB 32.2MB/s eta 0:00:01\r\u001b[K     |█████▍                          | 153kB 32.2MB/s eta 0:00:01\r\u001b[K     |█████▉                          | 163kB 32.2MB/s eta 0:00:01\r\u001b[K     |██████▏                         | 174kB 32.2MB/s eta 0:00:01\r\u001b[K     |██████▌                         | 184kB 32.2MB/s eta 0:00:01\r\u001b[K     |██████▉                         | 194kB 32.2MB/s eta 0:00:01\r\u001b[K     |███████▎                        | 204kB 32.2MB/s eta 0:00:01\r\u001b[K     |███████▋                        | 215kB 32.2MB/s eta 0:00:01\r\u001b[K     |████████                        | 225kB 32.2MB/s eta 0:00:01\r\u001b[K     |████████▎                       | 235kB 32.2MB/s eta 0:00:01\r\u001b[K     |████████▊                       | 245kB 32.2MB/s eta 0:00:01\r\u001b[K     |█████████                       | 256kB 32.2MB/s eta 0:00:01\r\u001b[K     |█████████▍                      | 266kB 32.2MB/s eta 0:00:01\r\u001b[K     |█████████▉                      | 276kB 32.2MB/s eta 0:00:01\r\u001b[K     |██████████▏                     | 286kB 32.2MB/s eta 0:00:01\r\u001b[K     |██████████▌                     | 296kB 32.2MB/s eta 0:00:01\r\u001b[K     |██████████▉                     | 307kB 32.2MB/s eta 0:00:01\r\u001b[K     |███████████▎                    | 317kB 32.2MB/s eta 0:00:01\r\u001b[K     |███████████▋                    | 327kB 32.2MB/s eta 0:00:01\r\u001b[K     |████████████                    | 337kB 32.2MB/s eta 0:00:01\r\u001b[K     |████████████▎                   | 348kB 32.2MB/s eta 0:00:01\r\u001b[K     |████████████▊                   | 358kB 32.2MB/s eta 0:00:01\r\u001b[K     |█████████████                   | 368kB 32.2MB/s eta 0:00:01\r\u001b[K     |█████████████▍                  | 378kB 32.2MB/s eta 0:00:01\r\u001b[K     |█████████████▊                  | 389kB 32.2MB/s eta 0:00:01\r\u001b[K     |██████████████▏                 | 399kB 32.2MB/s eta 0:00:01\r\u001b[K     |██████████████▌                 | 409kB 32.2MB/s eta 0:00:01\r\u001b[K     |██████████████▉                 | 419kB 32.2MB/s eta 0:00:01\r\u001b[K     |███████████████▏                | 430kB 32.2MB/s eta 0:00:01\r\u001b[K     |███████████████▋                | 440kB 32.2MB/s eta 0:00:01\r\u001b[K     |████████████████                | 450kB 32.2MB/s eta 0:00:01\r\u001b[K     |████████████████▎               | 460kB 32.2MB/s eta 0:00:01\r\u001b[K     |████████████████▋               | 471kB 32.2MB/s eta 0:00:01\r\u001b[K     |█████████████████               | 481kB 32.2MB/s eta 0:00:01\r\u001b[K     |█████████████████▍              | 491kB 32.2MB/s eta 0:00:01\r\u001b[K     |█████████████████▊              | 501kB 32.2MB/s eta 0:00:01\r\u001b[K     |██████████████████▏             | 512kB 32.2MB/s eta 0:00:01\r\u001b[K     |██████████████████▌             | 522kB 32.2MB/s eta 0:00:01\r\u001b[K     |██████████████████▉             | 532kB 32.2MB/s eta 0:00:01\r\u001b[K     |███████████████████▏            | 542kB 32.2MB/s eta 0:00:01\r\u001b[K     |███████████████████▋            | 552kB 32.2MB/s eta 0:00:01\r\u001b[K     |████████████████████            | 563kB 32.2MB/s eta 0:00:01\r\u001b[K     |████████████████████▎           | 573kB 32.2MB/s eta 0:00:01\r\u001b[K     |████████████████████▋           | 583kB 32.2MB/s eta 0:00:01\r\u001b[K     |█████████████████████           | 593kB 32.2MB/s eta 0:00:01\r\u001b[K     |█████████████████████▍          | 604kB 32.2MB/s eta 0:00:01\r\u001b[K     |█████████████████████▊          | 614kB 32.2MB/s eta 0:00:01\r\u001b[K     |██████████████████████          | 624kB 32.2MB/s eta 0:00:01\r\u001b[K     |██████████████████████▌         | 634kB 32.2MB/s eta 0:00:01\r\u001b[K     |██████████████████████▉         | 645kB 32.2MB/s eta 0:00:01\r\u001b[K     |███████████████████████▏        | 655kB 32.2MB/s eta 0:00:01\r\u001b[K     |███████████████████████▌        | 665kB 32.2MB/s eta 0:00:01\r\u001b[K     |████████████████████████        | 675kB 32.2MB/s eta 0:00:01\r\u001b[K     |████████████████████████▎       | 686kB 32.2MB/s eta 0:00:01\r\u001b[K     |████████████████████████▋       | 696kB 32.2MB/s eta 0:00:01\r\u001b[K     |█████████████████████████       | 706kB 32.2MB/s eta 0:00:01\r\u001b[K     |█████████████████████████▍      | 716kB 32.2MB/s eta 0:00:01\r\u001b[K     |█████████████████████████▊      | 727kB 32.2MB/s eta 0:00:01\r\u001b[K     |██████████████████████████      | 737kB 32.2MB/s eta 0:00:01\r\u001b[K     |██████████████████████████▍     | 747kB 32.2MB/s eta 0:00:01\r\u001b[K     |██████████████████████████▉     | 757kB 32.2MB/s eta 0:00:01\r\u001b[K     |███████████████████████████▏    | 768kB 32.2MB/s eta 0:00:01\r\u001b[K     |███████████████████████████▌    | 778kB 32.2MB/s eta 0:00:01\r\u001b[K     |████████████████████████████    | 788kB 32.2MB/s eta 0:00:01\r\u001b[K     |████████████████████████████▎   | 798kB 32.2MB/s eta 0:00:01\r\u001b[K     |████████████████████████████▋   | 808kB 32.2MB/s eta 0:00:01\r\u001b[K     |█████████████████████████████   | 819kB 32.2MB/s eta 0:00:01\r\u001b[K     |█████████████████████████████▍  | 829kB 32.2MB/s eta 0:00:01\r\u001b[K     |█████████████████████████████▊  | 839kB 32.2MB/s eta 0:00:01\r\u001b[K     |██████████████████████████████  | 849kB 32.2MB/s eta 0:00:01\r\u001b[K     |██████████████████████████████▍ | 860kB 32.2MB/s eta 0:00:01\r\u001b[K     |██████████████████████████████▉ | 870kB 32.2MB/s eta 0:00:01\r\u001b[K     |███████████████████████████████▏| 880kB 32.2MB/s eta 0:00:01\r\u001b[K     |███████████████████████████████▌| 890kB 32.2MB/s eta 0:00:01\r\u001b[K     |███████████████████████████████▉| 901kB 32.2MB/s eta 0:00:01\r\u001b[K     |████████████████████████████████| 911kB 32.2MB/s \n",
            "\u001b[?25hRequirement already satisfied: urllib3 in /usr/local/lib/python3.7/dist-packages (from selenium) (1.24.3)\n",
            "Installing collected packages: selenium\n",
            "Successfully installed selenium-3.141.0\n",
            "Get:1 http://security.ubuntu.com/ubuntu bionic-security InRelease [88.7 kB]\n",
            "Hit:2 https://cloud.r-project.org/bin/linux/ubuntu bionic-cran40/ InRelease\n",
            "Ign:3 https://developer.download.nvidia.com/compute/cuda/repos/ubuntu1804/x86_64  InRelease\n",
            "Hit:4 http://ppa.launchpad.net/c2d4u.team/c2d4u4.0+/ubuntu bionic InRelease\n",
            "Ign:5 https://developer.download.nvidia.com/compute/machine-learning/repos/ubuntu1804/x86_64  InRelease\n",
            "Get:6 https://developer.download.nvidia.com/compute/cuda/repos/ubuntu1804/x86_64  Release [697 B]\n",
            "Hit:7 https://developer.download.nvidia.com/compute/machine-learning/repos/ubuntu1804/x86_64  Release\n",
            "Get:8 https://developer.download.nvidia.com/compute/cuda/repos/ubuntu1804/x86_64  Release.gpg [836 B]\n",
            "Hit:9 http://archive.ubuntu.com/ubuntu bionic InRelease\n",
            "Hit:10 http://ppa.launchpad.net/cran/libgit2/ubuntu bionic InRelease\n",
            "Get:11 http://archive.ubuntu.com/ubuntu bionic-updates InRelease [88.7 kB]\n",
            "Get:12 http://ppa.launchpad.net/deadsnakes/ppa/ubuntu bionic InRelease [15.9 kB]\n",
            "Get:13 http://archive.ubuntu.com/ubuntu bionic-backports InRelease [74.6 kB]\n",
            "Get:14 http://security.ubuntu.com/ubuntu bionic-security/restricted amd64 Packages [473 kB]\n",
            "Get:15 http://security.ubuntu.com/ubuntu bionic-security/main amd64 Packages [2,219 kB]\n",
            "Get:16 http://ppa.launchpad.net/graphics-drivers/ppa/ubuntu bionic InRelease [21.3 kB]\n",
            "Get:17 http://security.ubuntu.com/ubuntu bionic-security/universe amd64 Packages [1,418 kB]\n",
            "Ign:19 https://developer.download.nvidia.com/compute/cuda/repos/ubuntu1804/x86_64  Packages\n",
            "Get:19 https://developer.download.nvidia.com/compute/cuda/repos/ubuntu1804/x86_64  Packages [599 kB]\n",
            "Get:20 http://archive.ubuntu.com/ubuntu bionic-updates/main amd64 Packages [2,652 kB]\n",
            "Get:21 http://ppa.launchpad.net/deadsnakes/ppa/ubuntu bionic/main amd64 Packages [40.9 kB]\n",
            "Get:22 http://archive.ubuntu.com/ubuntu bionic-updates/universe amd64 Packages [2,188 kB]\n",
            "Get:23 http://archive.ubuntu.com/ubuntu bionic-updates/restricted amd64 Packages [505 kB]\n",
            "Get:24 http://ppa.launchpad.net/graphics-drivers/ppa/ubuntu bionic/main amd64 Packages [41.5 kB]\n",
            "Fetched 10.4 MB in 3s (3,386 kB/s)\n",
            "Reading package lists... Done\n",
            "Reading package lists... Done\n",
            "Building dependency tree       \n",
            "Reading state information... Done\n",
            "The following additional packages will be installed:\n",
            "  chromium-browser chromium-browser-l10n chromium-codecs-ffmpeg-extra\n",
            "Suggested packages:\n",
            "  webaccounts-chromium-extension unity-chromium-extension\n",
            "The following NEW packages will be installed:\n",
            "  chromium-browser chromium-browser-l10n chromium-chromedriver\n",
            "  chromium-codecs-ffmpeg-extra\n",
            "0 upgraded, 4 newly installed, 0 to remove and 70 not upgraded.\n",
            "Need to get 86.0 MB of archives.\n",
            "After this operation, 298 MB of additional disk space will be used.\n",
            "Get:1 http://archive.ubuntu.com/ubuntu bionic-updates/universe amd64 chromium-codecs-ffmpeg-extra amd64 91.0.4472.101-0ubuntu0.18.04.1 [1,124 kB]\n",
            "Get:2 http://archive.ubuntu.com/ubuntu bionic-updates/universe amd64 chromium-browser amd64 91.0.4472.101-0ubuntu0.18.04.1 [76.1 MB]\n",
            "Get:3 http://archive.ubuntu.com/ubuntu bionic-updates/universe amd64 chromium-browser-l10n all 91.0.4472.101-0ubuntu0.18.04.1 [3,937 kB]\n",
            "Get:4 http://archive.ubuntu.com/ubuntu bionic-updates/universe amd64 chromium-chromedriver amd64 91.0.4472.101-0ubuntu0.18.04.1 [4,837 kB]\n",
            "Fetched 86.0 MB in 3s (28.3 MB/s)\n",
            "Selecting previously unselected package chromium-codecs-ffmpeg-extra.\n",
            "(Reading database ... 160772 files and directories currently installed.)\n",
            "Preparing to unpack .../chromium-codecs-ffmpeg-extra_91.0.4472.101-0ubuntu0.18.04.1_amd64.deb ...\n",
            "Unpacking chromium-codecs-ffmpeg-extra (91.0.4472.101-0ubuntu0.18.04.1) ...\n",
            "Selecting previously unselected package chromium-browser.\n",
            "Preparing to unpack .../chromium-browser_91.0.4472.101-0ubuntu0.18.04.1_amd64.deb ...\n",
            "Unpacking chromium-browser (91.0.4472.101-0ubuntu0.18.04.1) ...\n",
            "Selecting previously unselected package chromium-browser-l10n.\n",
            "Preparing to unpack .../chromium-browser-l10n_91.0.4472.101-0ubuntu0.18.04.1_all.deb ...\n",
            "Unpacking chromium-browser-l10n (91.0.4472.101-0ubuntu0.18.04.1) ...\n",
            "Selecting previously unselected package chromium-chromedriver.\n",
            "Preparing to unpack .../chromium-chromedriver_91.0.4472.101-0ubuntu0.18.04.1_amd64.deb ...\n",
            "Unpacking chromium-chromedriver (91.0.4472.101-0ubuntu0.18.04.1) ...\n",
            "Setting up chromium-codecs-ffmpeg-extra (91.0.4472.101-0ubuntu0.18.04.1) ...\n",
            "Setting up chromium-browser (91.0.4472.101-0ubuntu0.18.04.1) ...\n",
            "update-alternatives: using /usr/bin/chromium-browser to provide /usr/bin/x-www-browser (x-www-browser) in auto mode\n",
            "update-alternatives: using /usr/bin/chromium-browser to provide /usr/bin/gnome-www-browser (gnome-www-browser) in auto mode\n",
            "Setting up chromium-chromedriver (91.0.4472.101-0ubuntu0.18.04.1) ...\n",
            "Setting up chromium-browser-l10n (91.0.4472.101-0ubuntu0.18.04.1) ...\n",
            "Processing triggers for man-db (2.8.3-2ubuntu0.1) ...\n",
            "Processing triggers for hicolor-icon-theme (0.17-2) ...\n",
            "Processing triggers for mime-support (3.60ubuntu1) ...\n",
            "Processing triggers for libc-bin (2.27-3ubuntu1.2) ...\n",
            "/sbin/ldconfig.real: /usr/local/lib/python3.7/dist-packages/ideep4py/lib/libmkldnn.so.0 is not a symbolic link\n",
            "\n",
            "cp: '/usr/lib/chromium-browser/chromedriver' and '/usr/bin/chromedriver' are the same file\n"
          ],
          "name": "stdout"
        },
        {
          "output_type": "stream",
          "text": [
            "/usr/local/lib/python3.7/dist-packages/ipykernel_launcher.py:12: DeprecationWarning: use options instead of chrome_options\n",
            "  if sys.path[0] == '':\n",
            "/usr/local/lib/python3.7/dist-packages/ipykernel_launcher.py:13: DeprecationWarning: use options instead of chrome_options\n",
            "  del sys.path[0]\n",
            "/usr/local/lib/python3.7/dist-packages/ipykernel_launcher.py:14: DeprecationWarning: use options instead of chrome_options\n",
            "  \n"
          ],
          "name": "stderr"
        }
      ]
    },
    {
      "cell_type": "code",
      "metadata": {
        "id": "gdNyUMgIFdgi"
      },
      "source": [
        "# Web Scraping\n",
        "from selenium import webdriver\n",
        "from selenium.common.exceptions import *\n",
        "# Data manipulation\n",
        "import pandas as pd\n",
        "# Visualization\n",
        "import matplotlib.pyplot as plt\n",
        "import seaborn as sns"
      ],
      "execution_count": null,
      "outputs": []
    },
    {
      "cell_type": "code",
      "metadata": {
        "id": "aZ6qm_7SD3m-"
      },
      "source": [
        "wd.get('https://www.lazada.co.th/shop-senior-health/?spm=a2o4m.10453683.0.0.615d2567i6z9JM&certainty-official-store&from=wangpu&sc=KVUG&q=All-Products')"
      ],
      "execution_count": null,
      "outputs": []
    },
    {
      "cell_type": "code",
      "metadata": {
        "id": "86JUWR1XEM0b"
      },
      "source": [
        "item_prices = wd.find_elements_by_class_name('GridItem__price___LY2Vk')\n",
        "item_titles = wd.find_elements_by_class_name('GridItem__title___8JShU')"
      ],
      "execution_count": null,
      "outputs": []
    },
    {
      "cell_type": "code",
      "metadata": {
        "id": "UpXJeu8HEh4v"
      },
      "source": [
        "# Initialize empty lists\n",
        "titles_list = []\n",
        "prices_list = []\n",
        "# Loop over the item_titles and item_prices\n",
        "for title in item_titles:\n",
        "    titles_list.append(title.text)\n",
        "for price in item_prices:\n",
        "    prices_list.append(price.text)"
      ],
      "execution_count": null,
      "outputs": []
    },
    {
      "cell_type": "code",
      "metadata": {
        "id": "bh716JRUEz03"
      },
      "source": [
        "dfL = pd.DataFrame(zip(titles_list, prices_list), columns=['ItemName', 'Price'])"
      ],
      "execution_count": null,
      "outputs": []
    },
    {
      "cell_type": "code",
      "metadata": {
        "colab": {
          "base_uri": "https://localhost:8080/",
          "height": 1000
        },
        "id": "LXDsEhKIFi5G",
        "outputId": "90dd1ffd-2209-46c8-e3b3-b5fa6722425a"
      },
      "source": [
        "dfL"
      ],
      "execution_count": null,
      "outputs": [
        {
          "output_type": "execute_result",
          "data": {
            "text/html": [
              "<div>\n",
              "<style scoped>\n",
              "    .dataframe tbody tr th:only-of-type {\n",
              "        vertical-align: middle;\n",
              "    }\n",
              "\n",
              "    .dataframe tbody tr th {\n",
              "        vertical-align: top;\n",
              "    }\n",
              "\n",
              "    .dataframe thead th {\n",
              "        text-align: right;\n",
              "    }\n",
              "</style>\n",
              "<table border=\"1\" class=\"dataframe\">\n",
              "  <thead>\n",
              "    <tr style=\"text-align: right;\">\n",
              "      <th></th>\n",
              "      <th>ItemName</th>\n",
              "      <th>Price</th>\n",
              "    </tr>\n",
              "  </thead>\n",
              "  <tbody>\n",
              "    <tr>\n",
              "      <th>0</th>\n",
              "      <td>Certainty ผ้าอ้อมผู้ใหญ่แบบเทป เซอร์เทนตี้ อีซ...</td>\n",
              "      <td>฿1,279.00</td>\n",
              "    </tr>\n",
              "    <tr>\n",
              "      <th>1</th>\n",
              "      <td>Certainty ผ้าอ้อมผู้ใหญ่แบบเทป เซอร์เทนตี้ อีซ...</td>\n",
              "      <td>฿1,279.00</td>\n",
              "    </tr>\n",
              "    <tr>\n",
              "      <th>2</th>\n",
              "      <td>[ลังประหยัดสุดคุ้ม] CERTAINTY DAYPANTS VALUE P...</td>\n",
              "      <td>฿669.00</td>\n",
              "    </tr>\n",
              "    <tr>\n",
              "      <th>3</th>\n",
              "      <td>Certainty Bed Sheet เซอร์เทนตี้ แผ่นรองซับผู้ใ...</td>\n",
              "      <td>฿89.00</td>\n",
              "    </tr>\n",
              "    <tr>\n",
              "      <th>4</th>\n",
              "      <td>Certainty Bed Sheet เซอร์เทนตี้ แผ่นรองซับผู้ใ...</td>\n",
              "      <td>฿356.00</td>\n",
              "    </tr>\n",
              "    <tr>\n",
              "      <th>5</th>\n",
              "      <td>Certainty Tape ผ้าอ้อมผู้ใหญ่ เซอร์เทนตี้ แบบเ...</td>\n",
              "      <td>฿1,529.00</td>\n",
              "    </tr>\n",
              "    <tr>\n",
              "      <th>6</th>\n",
              "      <td>Certainty Bed Sheet เซอร์เทนตี้ แผ่นรองซับผู้ใ...</td>\n",
              "      <td>฿1,068.00</td>\n",
              "    </tr>\n",
              "    <tr>\n",
              "      <th>7</th>\n",
              "      <td>Certainty Tape ผ้าอ้อมผู้ใหญ่ เซอร์เทนตี้ แบบเ...</td>\n",
              "      <td>฿399.00</td>\n",
              "    </tr>\n",
              "    <tr>\n",
              "      <th>8</th>\n",
              "      <td>[ขายยกลัง] CERTAINTY GOLDPANTS กางเกงซึมซับสูง...</td>\n",
              "      <td>฿1,745.00</td>\n",
              "    </tr>\n",
              "    <tr>\n",
              "      <th>9</th>\n",
              "      <td>CERTAINTY Comfort Pants กางเกงซึมซับเริ่มต้น เ...</td>\n",
              "      <td>฿479.00</td>\n",
              "    </tr>\n",
              "    <tr>\n",
              "      <th>10</th>\n",
              "      <td>[ลังประหยัด] CERTAINTY DAYPANTS SUPER SAVE BOX...</td>\n",
              "      <td>฿1,645.00</td>\n",
              "    </tr>\n",
              "    <tr>\n",
              "      <th>11</th>\n",
              "      <td>[ลังประหยัด] CERTAINTY DAYPANTS SUPER SAVE BOX...</td>\n",
              "      <td>฿1,645.00</td>\n",
              "    </tr>\n",
              "    <tr>\n",
              "      <th>12</th>\n",
              "      <td>[ขายยกลัง] CERTAINTY Comfort Pants กางเกงซึมซั...</td>\n",
              "      <td>฿1,695.00</td>\n",
              "    </tr>\n",
              "    <tr>\n",
              "      <th>13</th>\n",
              "      <td>[โฉมใหม่] CERTAINTY SUPERPANTS กางเกงซึมซับมาก...</td>\n",
              "      <td>฿439.00</td>\n",
              "    </tr>\n",
              "    <tr>\n",
              "      <th>14</th>\n",
              "      <td>[ขายยกลัง] CERTAINTY GOLDPANTS กางเกงซึมซับสูง...</td>\n",
              "      <td>฿1,745.00</td>\n",
              "    </tr>\n",
              "    <tr>\n",
              "      <th>15</th>\n",
              "      <td>Certainty Tape ผ้าอ้อมผู้ใหญ่ เซอร์เทนตี้ แบบเ...</td>\n",
              "      <td>฿399.00</td>\n",
              "    </tr>\n",
              "    <tr>\n",
              "      <th>16</th>\n",
              "      <td>[โฉมใหม่ ขายยกลัง] CERTAINTY DAYPANTS กางเกงซึ...</td>\n",
              "      <td>฿1,695.00</td>\n",
              "    </tr>\n",
              "    <tr>\n",
              "      <th>17</th>\n",
              "      <td>[โฉมใหม่] CERTAINTY DAYPANTS กางเกงซึมซับปกติ ...</td>\n",
              "      <td>฿439.00</td>\n",
              "    </tr>\n",
              "    <tr>\n",
              "      <th>18</th>\n",
              "      <td>[โฉมใหม่] CERTAINTY SUPERPANTS กางเกงซึมซับมาก...</td>\n",
              "      <td>฿439.00</td>\n",
              "    </tr>\n",
              "    <tr>\n",
              "      <th>19</th>\n",
              "      <td>CERTAINTY Comfort Pants กางเกงซึมซับเริ่มต้น เ...</td>\n",
              "      <td>฿469.00</td>\n",
              "    </tr>\n",
              "    <tr>\n",
              "      <th>20</th>\n",
              "      <td>[ขายยกลัง] CERTAINTY Comfort Pants กางเกงซึมซั...</td>\n",
              "      <td>฿1,695.00</td>\n",
              "    </tr>\n",
              "    <tr>\n",
              "      <th>21</th>\n",
              "      <td>CERTAINTY GOLDPANTS กางเกงซึมซับสูงสุด ยาวนาน ...</td>\n",
              "      <td>฿469.00</td>\n",
              "    </tr>\n",
              "    <tr>\n",
              "      <th>22</th>\n",
              "      <td>[โฉมใหม่ ขายยกลัง] CERTAINTY DAYPANTS กางเกงซึ...</td>\n",
              "      <td>฿1,996.00</td>\n",
              "    </tr>\n",
              "    <tr>\n",
              "      <th>23</th>\n",
              "      <td>[โฉมใหม่] CERTAINTY SUPERPANTS กางเกงซึมซับมาก...</td>\n",
              "      <td>฿439.00</td>\n",
              "    </tr>\n",
              "    <tr>\n",
              "      <th>24</th>\n",
              "      <td>[โฉมใหม่ ขายยกลัง] CERTAINTY SUPERPANTS กางเกง...</td>\n",
              "      <td>฿1,996.00</td>\n",
              "    </tr>\n",
              "    <tr>\n",
              "      <th>25</th>\n",
              "      <td>CERTAINTY GOLDPANTS กางเกงซึมซับสูงสุด ยาวนาน ...</td>\n",
              "      <td>฿434.00</td>\n",
              "    </tr>\n",
              "    <tr>\n",
              "      <th>26</th>\n",
              "      <td>[เซตสุดคุ้ม! ซื้อ 2 ได้ถึง 4] CERTAINTY GOLDPA...</td>\n",
              "      <td>฿199.00</td>\n",
              "    </tr>\n",
              "    <tr>\n",
              "      <th>27</th>\n",
              "      <td>[ขายยกลัง] CERTAINTY GOLDPANTS กางเกงซึมซับสูง...</td>\n",
              "      <td>฿1,745.00</td>\n",
              "    </tr>\n",
              "    <tr>\n",
              "      <th>28</th>\n",
              "      <td>Certainty DayPants เซอร์เทนตี้ เดย์แพ้นส์ ราคา...</td>\n",
              "      <td>฿1,645.00</td>\n",
              "    </tr>\n",
              "    <tr>\n",
              "      <th>29</th>\n",
              "      <td>Certainty DayPants กางเกงอนามัย เซอร์เทนตี้ เด...</td>\n",
              "      <td>฿65.00</td>\n",
              "    </tr>\n",
              "    <tr>\n",
              "      <th>30</th>\n",
              "      <td>Certainty SuperPants กางเกงซึมซับ เซอร์เทนตี้ ...</td>\n",
              "      <td>฿99.00</td>\n",
              "    </tr>\n",
              "    <tr>\n",
              "      <th>31</th>\n",
              "      <td>Certainty เซอร์เทนตี้ เซ็ทสุดคุ้มกางเกงเดย์แพ้...</td>\n",
              "      <td>฿735.00</td>\n",
              "    </tr>\n",
              "    <tr>\n",
              "      <th>32</th>\n",
              "      <td>Certainty เซอร์เทนตี้ เซ็ทสุดคุ้มกางเกงเดย์แพ้...</td>\n",
              "      <td>฿735.00</td>\n",
              "    </tr>\n",
              "    <tr>\n",
              "      <th>33</th>\n",
              "      <td>ขายยกลัง! ผ้าทำความสะอาดผิวสำหรับผู้ใหญ่ เซอร์...</td>\n",
              "      <td>฿1,700.00</td>\n",
              "    </tr>\n",
              "    <tr>\n",
              "      <th>34</th>\n",
              "      <td>Certainty ผ้าทำความสะอาดผิวสำหรับผู้ใหญ่ เซอร์...</td>\n",
              "      <td>฿340.00</td>\n",
              "    </tr>\n",
              "    <tr>\n",
              "      <th>35</th>\n",
              "      <td>Certainty ผ้าทำความสะอาดผิวสำหรับผู้ใหญ่ เซอร์...</td>\n",
              "      <td>฿85.00</td>\n",
              "    </tr>\n",
              "  </tbody>\n",
              "</table>\n",
              "</div>"
            ],
            "text/plain": [
              "                                             ItemName      Price\n",
              "0   Certainty ผ้าอ้อมผู้ใหญ่แบบเทป เซอร์เทนตี้ อีซ...  ฿1,279.00\n",
              "1   Certainty ผ้าอ้อมผู้ใหญ่แบบเทป เซอร์เทนตี้ อีซ...  ฿1,279.00\n",
              "2   [ลังประหยัดสุดคุ้ม] CERTAINTY DAYPANTS VALUE P...    ฿669.00\n",
              "3   Certainty Bed Sheet เซอร์เทนตี้ แผ่นรองซับผู้ใ...     ฿89.00\n",
              "4   Certainty Bed Sheet เซอร์เทนตี้ แผ่นรองซับผู้ใ...    ฿356.00\n",
              "5   Certainty Tape ผ้าอ้อมผู้ใหญ่ เซอร์เทนตี้ แบบเ...  ฿1,529.00\n",
              "6   Certainty Bed Sheet เซอร์เทนตี้ แผ่นรองซับผู้ใ...  ฿1,068.00\n",
              "7   Certainty Tape ผ้าอ้อมผู้ใหญ่ เซอร์เทนตี้ แบบเ...    ฿399.00\n",
              "8   [ขายยกลัง] CERTAINTY GOLDPANTS กางเกงซึมซับสูง...  ฿1,745.00\n",
              "9   CERTAINTY Comfort Pants กางเกงซึมซับเริ่มต้น เ...    ฿479.00\n",
              "10  [ลังประหยัด] CERTAINTY DAYPANTS SUPER SAVE BOX...  ฿1,645.00\n",
              "11  [ลังประหยัด] CERTAINTY DAYPANTS SUPER SAVE BOX...  ฿1,645.00\n",
              "12  [ขายยกลัง] CERTAINTY Comfort Pants กางเกงซึมซั...  ฿1,695.00\n",
              "13  [โฉมใหม่] CERTAINTY SUPERPANTS กางเกงซึมซับมาก...    ฿439.00\n",
              "14  [ขายยกลัง] CERTAINTY GOLDPANTS กางเกงซึมซับสูง...  ฿1,745.00\n",
              "15  Certainty Tape ผ้าอ้อมผู้ใหญ่ เซอร์เทนตี้ แบบเ...    ฿399.00\n",
              "16  [โฉมใหม่ ขายยกลัง] CERTAINTY DAYPANTS กางเกงซึ...  ฿1,695.00\n",
              "17  [โฉมใหม่] CERTAINTY DAYPANTS กางเกงซึมซับปกติ ...    ฿439.00\n",
              "18  [โฉมใหม่] CERTAINTY SUPERPANTS กางเกงซึมซับมาก...    ฿439.00\n",
              "19  CERTAINTY Comfort Pants กางเกงซึมซับเริ่มต้น เ...    ฿469.00\n",
              "20  [ขายยกลัง] CERTAINTY Comfort Pants กางเกงซึมซั...  ฿1,695.00\n",
              "21  CERTAINTY GOLDPANTS กางเกงซึมซับสูงสุด ยาวนาน ...    ฿469.00\n",
              "22  [โฉมใหม่ ขายยกลัง] CERTAINTY DAYPANTS กางเกงซึ...  ฿1,996.00\n",
              "23  [โฉมใหม่] CERTAINTY SUPERPANTS กางเกงซึมซับมาก...    ฿439.00\n",
              "24  [โฉมใหม่ ขายยกลัง] CERTAINTY SUPERPANTS กางเกง...  ฿1,996.00\n",
              "25  CERTAINTY GOLDPANTS กางเกงซึมซับสูงสุด ยาวนาน ...    ฿434.00\n",
              "26  [เซตสุดคุ้ม! ซื้อ 2 ได้ถึง 4] CERTAINTY GOLDPA...    ฿199.00\n",
              "27  [ขายยกลัง] CERTAINTY GOLDPANTS กางเกงซึมซับสูง...  ฿1,745.00\n",
              "28  Certainty DayPants เซอร์เทนตี้ เดย์แพ้นส์ ราคา...  ฿1,645.00\n",
              "29  Certainty DayPants กางเกงอนามัย เซอร์เทนตี้ เด...     ฿65.00\n",
              "30  Certainty SuperPants กางเกงซึมซับ เซอร์เทนตี้ ...     ฿99.00\n",
              "31  Certainty เซอร์เทนตี้ เซ็ทสุดคุ้มกางเกงเดย์แพ้...    ฿735.00\n",
              "32  Certainty เซอร์เทนตี้ เซ็ทสุดคุ้มกางเกงเดย์แพ้...    ฿735.00\n",
              "33  ขายยกลัง! ผ้าทำความสะอาดผิวสำหรับผู้ใหญ่ เซอร์...  ฿1,700.00\n",
              "34  Certainty ผ้าทำความสะอาดผิวสำหรับผู้ใหญ่ เซอร์...    ฿340.00\n",
              "35  Certainty ผ้าทำความสะอาดผิวสำหรับผู้ใหญ่ เซอร์...     ฿85.00"
            ]
          },
          "metadata": {
            "tags": []
          },
          "execution_count": 7
        }
      ]
    },
    {
      "cell_type": "code",
      "metadata": {
        "id": "vyfpQBy6FocO"
      },
      "source": [
        "dfL['Price'] = dfL['Price'].str.replace(',','')\n",
        "dfL['Price'] = dfL['Price'].str.replace('฿','').astype(float)"
      ],
      "execution_count": null,
      "outputs": []
    },
    {
      "cell_type": "code",
      "metadata": {
        "colab": {
          "base_uri": "https://localhost:8080/",
          "height": 1000
        },
        "id": "A0EmVuBMGoa1",
        "outputId": "c286928f-bec1-4e81-f008-1f38ad1036b1"
      },
      "source": [
        "dfL"
      ],
      "execution_count": null,
      "outputs": [
        {
          "output_type": "execute_result",
          "data": {
            "text/html": [
              "<div>\n",
              "<style scoped>\n",
              "    .dataframe tbody tr th:only-of-type {\n",
              "        vertical-align: middle;\n",
              "    }\n",
              "\n",
              "    .dataframe tbody tr th {\n",
              "        vertical-align: top;\n",
              "    }\n",
              "\n",
              "    .dataframe thead th {\n",
              "        text-align: right;\n",
              "    }\n",
              "</style>\n",
              "<table border=\"1\" class=\"dataframe\">\n",
              "  <thead>\n",
              "    <tr style=\"text-align: right;\">\n",
              "      <th></th>\n",
              "      <th>ItemName</th>\n",
              "      <th>Price</th>\n",
              "    </tr>\n",
              "  </thead>\n",
              "  <tbody>\n",
              "    <tr>\n",
              "      <th>0</th>\n",
              "      <td>Certainty ผ้าอ้อมผู้ใหญ่แบบเทป เซอร์เทนตี้ อีซ...</td>\n",
              "      <td>1279.0</td>\n",
              "    </tr>\n",
              "    <tr>\n",
              "      <th>1</th>\n",
              "      <td>Certainty ผ้าอ้อมผู้ใหญ่แบบเทป เซอร์เทนตี้ อีซ...</td>\n",
              "      <td>1279.0</td>\n",
              "    </tr>\n",
              "    <tr>\n",
              "      <th>2</th>\n",
              "      <td>[ลังประหยัดสุดคุ้ม] CERTAINTY DAYPANTS VALUE P...</td>\n",
              "      <td>669.0</td>\n",
              "    </tr>\n",
              "    <tr>\n",
              "      <th>3</th>\n",
              "      <td>Certainty Bed Sheet เซอร์เทนตี้ แผ่นรองซับผู้ใ...</td>\n",
              "      <td>89.0</td>\n",
              "    </tr>\n",
              "    <tr>\n",
              "      <th>4</th>\n",
              "      <td>Certainty Bed Sheet เซอร์เทนตี้ แผ่นรองซับผู้ใ...</td>\n",
              "      <td>356.0</td>\n",
              "    </tr>\n",
              "    <tr>\n",
              "      <th>5</th>\n",
              "      <td>Certainty Tape ผ้าอ้อมผู้ใหญ่ เซอร์เทนตี้ แบบเ...</td>\n",
              "      <td>1529.0</td>\n",
              "    </tr>\n",
              "    <tr>\n",
              "      <th>6</th>\n",
              "      <td>Certainty Bed Sheet เซอร์เทนตี้ แผ่นรองซับผู้ใ...</td>\n",
              "      <td>1068.0</td>\n",
              "    </tr>\n",
              "    <tr>\n",
              "      <th>7</th>\n",
              "      <td>Certainty Tape ผ้าอ้อมผู้ใหญ่ เซอร์เทนตี้ แบบเ...</td>\n",
              "      <td>399.0</td>\n",
              "    </tr>\n",
              "    <tr>\n",
              "      <th>8</th>\n",
              "      <td>[ขายยกลัง] CERTAINTY GOLDPANTS กางเกงซึมซับสูง...</td>\n",
              "      <td>1745.0</td>\n",
              "    </tr>\n",
              "    <tr>\n",
              "      <th>9</th>\n",
              "      <td>CERTAINTY Comfort Pants กางเกงซึมซับเริ่มต้น เ...</td>\n",
              "      <td>479.0</td>\n",
              "    </tr>\n",
              "    <tr>\n",
              "      <th>10</th>\n",
              "      <td>[ลังประหยัด] CERTAINTY DAYPANTS SUPER SAVE BOX...</td>\n",
              "      <td>1645.0</td>\n",
              "    </tr>\n",
              "    <tr>\n",
              "      <th>11</th>\n",
              "      <td>[ลังประหยัด] CERTAINTY DAYPANTS SUPER SAVE BOX...</td>\n",
              "      <td>1645.0</td>\n",
              "    </tr>\n",
              "    <tr>\n",
              "      <th>12</th>\n",
              "      <td>[ขายยกลัง] CERTAINTY Comfort Pants กางเกงซึมซั...</td>\n",
              "      <td>1695.0</td>\n",
              "    </tr>\n",
              "    <tr>\n",
              "      <th>13</th>\n",
              "      <td>[โฉมใหม่] CERTAINTY SUPERPANTS กางเกงซึมซับมาก...</td>\n",
              "      <td>439.0</td>\n",
              "    </tr>\n",
              "    <tr>\n",
              "      <th>14</th>\n",
              "      <td>[ขายยกลัง] CERTAINTY GOLDPANTS กางเกงซึมซับสูง...</td>\n",
              "      <td>1745.0</td>\n",
              "    </tr>\n",
              "    <tr>\n",
              "      <th>15</th>\n",
              "      <td>Certainty Tape ผ้าอ้อมผู้ใหญ่ เซอร์เทนตี้ แบบเ...</td>\n",
              "      <td>399.0</td>\n",
              "    </tr>\n",
              "    <tr>\n",
              "      <th>16</th>\n",
              "      <td>[โฉมใหม่ ขายยกลัง] CERTAINTY DAYPANTS กางเกงซึ...</td>\n",
              "      <td>1695.0</td>\n",
              "    </tr>\n",
              "    <tr>\n",
              "      <th>17</th>\n",
              "      <td>[โฉมใหม่] CERTAINTY DAYPANTS กางเกงซึมซับปกติ ...</td>\n",
              "      <td>439.0</td>\n",
              "    </tr>\n",
              "    <tr>\n",
              "      <th>18</th>\n",
              "      <td>[โฉมใหม่] CERTAINTY SUPERPANTS กางเกงซึมซับมาก...</td>\n",
              "      <td>439.0</td>\n",
              "    </tr>\n",
              "    <tr>\n",
              "      <th>19</th>\n",
              "      <td>CERTAINTY Comfort Pants กางเกงซึมซับเริ่มต้น เ...</td>\n",
              "      <td>469.0</td>\n",
              "    </tr>\n",
              "    <tr>\n",
              "      <th>20</th>\n",
              "      <td>[ขายยกลัง] CERTAINTY Comfort Pants กางเกงซึมซั...</td>\n",
              "      <td>1695.0</td>\n",
              "    </tr>\n",
              "    <tr>\n",
              "      <th>21</th>\n",
              "      <td>CERTAINTY GOLDPANTS กางเกงซึมซับสูงสุด ยาวนาน ...</td>\n",
              "      <td>469.0</td>\n",
              "    </tr>\n",
              "    <tr>\n",
              "      <th>22</th>\n",
              "      <td>[โฉมใหม่ ขายยกลัง] CERTAINTY DAYPANTS กางเกงซึ...</td>\n",
              "      <td>1996.0</td>\n",
              "    </tr>\n",
              "    <tr>\n",
              "      <th>23</th>\n",
              "      <td>[โฉมใหม่] CERTAINTY SUPERPANTS กางเกงซึมซับมาก...</td>\n",
              "      <td>439.0</td>\n",
              "    </tr>\n",
              "    <tr>\n",
              "      <th>24</th>\n",
              "      <td>[โฉมใหม่ ขายยกลัง] CERTAINTY SUPERPANTS กางเกง...</td>\n",
              "      <td>1996.0</td>\n",
              "    </tr>\n",
              "    <tr>\n",
              "      <th>25</th>\n",
              "      <td>CERTAINTY GOLDPANTS กางเกงซึมซับสูงสุด ยาวนาน ...</td>\n",
              "      <td>434.0</td>\n",
              "    </tr>\n",
              "    <tr>\n",
              "      <th>26</th>\n",
              "      <td>[เซตสุดคุ้ม! ซื้อ 2 ได้ถึง 4] CERTAINTY GOLDPA...</td>\n",
              "      <td>199.0</td>\n",
              "    </tr>\n",
              "    <tr>\n",
              "      <th>27</th>\n",
              "      <td>[ขายยกลัง] CERTAINTY GOLDPANTS กางเกงซึมซับสูง...</td>\n",
              "      <td>1745.0</td>\n",
              "    </tr>\n",
              "    <tr>\n",
              "      <th>28</th>\n",
              "      <td>Certainty DayPants เซอร์เทนตี้ เดย์แพ้นส์ ราคา...</td>\n",
              "      <td>1645.0</td>\n",
              "    </tr>\n",
              "    <tr>\n",
              "      <th>29</th>\n",
              "      <td>Certainty DayPants กางเกงอนามัย เซอร์เทนตี้ เด...</td>\n",
              "      <td>65.0</td>\n",
              "    </tr>\n",
              "    <tr>\n",
              "      <th>30</th>\n",
              "      <td>Certainty SuperPants กางเกงซึมซับ เซอร์เทนตี้ ...</td>\n",
              "      <td>99.0</td>\n",
              "    </tr>\n",
              "    <tr>\n",
              "      <th>31</th>\n",
              "      <td>Certainty เซอร์เทนตี้ เซ็ทสุดคุ้มกางเกงเดย์แพ้...</td>\n",
              "      <td>735.0</td>\n",
              "    </tr>\n",
              "    <tr>\n",
              "      <th>32</th>\n",
              "      <td>Certainty เซอร์เทนตี้ เซ็ทสุดคุ้มกางเกงเดย์แพ้...</td>\n",
              "      <td>735.0</td>\n",
              "    </tr>\n",
              "    <tr>\n",
              "      <th>33</th>\n",
              "      <td>ขายยกลัง! ผ้าทำความสะอาดผิวสำหรับผู้ใหญ่ เซอร์...</td>\n",
              "      <td>1700.0</td>\n",
              "    </tr>\n",
              "    <tr>\n",
              "      <th>34</th>\n",
              "      <td>Certainty ผ้าทำความสะอาดผิวสำหรับผู้ใหญ่ เซอร์...</td>\n",
              "      <td>340.0</td>\n",
              "    </tr>\n",
              "    <tr>\n",
              "      <th>35</th>\n",
              "      <td>Certainty ผ้าทำความสะอาดผิวสำหรับผู้ใหญ่ เซอร์...</td>\n",
              "      <td>85.0</td>\n",
              "    </tr>\n",
              "  </tbody>\n",
              "</table>\n",
              "</div>"
            ],
            "text/plain": [
              "                                             ItemName   Price\n",
              "0   Certainty ผ้าอ้อมผู้ใหญ่แบบเทป เซอร์เทนตี้ อีซ...  1279.0\n",
              "1   Certainty ผ้าอ้อมผู้ใหญ่แบบเทป เซอร์เทนตี้ อีซ...  1279.0\n",
              "2   [ลังประหยัดสุดคุ้ม] CERTAINTY DAYPANTS VALUE P...   669.0\n",
              "3   Certainty Bed Sheet เซอร์เทนตี้ แผ่นรองซับผู้ใ...    89.0\n",
              "4   Certainty Bed Sheet เซอร์เทนตี้ แผ่นรองซับผู้ใ...   356.0\n",
              "5   Certainty Tape ผ้าอ้อมผู้ใหญ่ เซอร์เทนตี้ แบบเ...  1529.0\n",
              "6   Certainty Bed Sheet เซอร์เทนตี้ แผ่นรองซับผู้ใ...  1068.0\n",
              "7   Certainty Tape ผ้าอ้อมผู้ใหญ่ เซอร์เทนตี้ แบบเ...   399.0\n",
              "8   [ขายยกลัง] CERTAINTY GOLDPANTS กางเกงซึมซับสูง...  1745.0\n",
              "9   CERTAINTY Comfort Pants กางเกงซึมซับเริ่มต้น เ...   479.0\n",
              "10  [ลังประหยัด] CERTAINTY DAYPANTS SUPER SAVE BOX...  1645.0\n",
              "11  [ลังประหยัด] CERTAINTY DAYPANTS SUPER SAVE BOX...  1645.0\n",
              "12  [ขายยกลัง] CERTAINTY Comfort Pants กางเกงซึมซั...  1695.0\n",
              "13  [โฉมใหม่] CERTAINTY SUPERPANTS กางเกงซึมซับมาก...   439.0\n",
              "14  [ขายยกลัง] CERTAINTY GOLDPANTS กางเกงซึมซับสูง...  1745.0\n",
              "15  Certainty Tape ผ้าอ้อมผู้ใหญ่ เซอร์เทนตี้ แบบเ...   399.0\n",
              "16  [โฉมใหม่ ขายยกลัง] CERTAINTY DAYPANTS กางเกงซึ...  1695.0\n",
              "17  [โฉมใหม่] CERTAINTY DAYPANTS กางเกงซึมซับปกติ ...   439.0\n",
              "18  [โฉมใหม่] CERTAINTY SUPERPANTS กางเกงซึมซับมาก...   439.0\n",
              "19  CERTAINTY Comfort Pants กางเกงซึมซับเริ่มต้น เ...   469.0\n",
              "20  [ขายยกลัง] CERTAINTY Comfort Pants กางเกงซึมซั...  1695.0\n",
              "21  CERTAINTY GOLDPANTS กางเกงซึมซับสูงสุด ยาวนาน ...   469.0\n",
              "22  [โฉมใหม่ ขายยกลัง] CERTAINTY DAYPANTS กางเกงซึ...  1996.0\n",
              "23  [โฉมใหม่] CERTAINTY SUPERPANTS กางเกงซึมซับมาก...   439.0\n",
              "24  [โฉมใหม่ ขายยกลัง] CERTAINTY SUPERPANTS กางเกง...  1996.0\n",
              "25  CERTAINTY GOLDPANTS กางเกงซึมซับสูงสุด ยาวนาน ...   434.0\n",
              "26  [เซตสุดคุ้ม! ซื้อ 2 ได้ถึง 4] CERTAINTY GOLDPA...   199.0\n",
              "27  [ขายยกลัง] CERTAINTY GOLDPANTS กางเกงซึมซับสูง...  1745.0\n",
              "28  Certainty DayPants เซอร์เทนตี้ เดย์แพ้นส์ ราคา...  1645.0\n",
              "29  Certainty DayPants กางเกงอนามัย เซอร์เทนตี้ เด...    65.0\n",
              "30  Certainty SuperPants กางเกงซึมซับ เซอร์เทนตี้ ...    99.0\n",
              "31  Certainty เซอร์เทนตี้ เซ็ทสุดคุ้มกางเกงเดย์แพ้...   735.0\n",
              "32  Certainty เซอร์เทนตี้ เซ็ทสุดคุ้มกางเกงเดย์แพ้...   735.0\n",
              "33  ขายยกลัง! ผ้าทำความสะอาดผิวสำหรับผู้ใหญ่ เซอร์...  1700.0\n",
              "34  Certainty ผ้าทำความสะอาดผิวสำหรับผู้ใหญ่ เซอร์...   340.0\n",
              "35  Certainty ผ้าทำความสะอาดผิวสำหรับผู้ใหญ่ เซอร์...    85.0"
            ]
          },
          "metadata": {
            "tags": []
          },
          "execution_count": 9
        }
      ]
    },
    {
      "cell_type": "code",
      "metadata": {
        "id": "HFOW1W94GB3d"
      },
      "source": [
        "dfL = dfL[dfL['ItemName'].str.contains('ยกลัง') == False]\n",
        "dfL = dfL[dfL['ItemName'].str.contains('ลังประหยัด') == False]"
      ],
      "execution_count": null,
      "outputs": []
    },
    {
      "cell_type": "code",
      "metadata": {
        "id": "stKEyuaWG8KD"
      },
      "source": [
        "dfL['Platform'] = 'Lazada'"
      ],
      "execution_count": null,
      "outputs": []
    },
    {
      "cell_type": "code",
      "metadata": {
        "id": "MsjBCdK0SDsJ",
        "colab": {
          "base_uri": "https://localhost:8080/",
          "height": 17
        },
        "outputId": "97e12c73-e184-4483-940b-4bcfb53e8401"
      },
      "source": [
        "from google.colab import files\n",
        "dfL.to_csv('Lazada_certainty_price_1.csv', encoding = 'utf-8-sig',index = False)\n",
        "files.download('Lazada_certainty_price_1.csv')"
      ],
      "execution_count": null,
      "outputs": [
        {
          "output_type": "display_data",
          "data": {
            "application/javascript": [
              "\n",
              "    async function download(id, filename, size) {\n",
              "      if (!google.colab.kernel.accessAllowed) {\n",
              "        return;\n",
              "      }\n",
              "      const div = document.createElement('div');\n",
              "      const label = document.createElement('label');\n",
              "      label.textContent = `Downloading \"${filename}\": `;\n",
              "      div.appendChild(label);\n",
              "      const progress = document.createElement('progress');\n",
              "      progress.max = size;\n",
              "      div.appendChild(progress);\n",
              "      document.body.appendChild(div);\n",
              "\n",
              "      const buffers = [];\n",
              "      let downloaded = 0;\n",
              "\n",
              "      const channel = await google.colab.kernel.comms.open(id);\n",
              "      // Send a message to notify the kernel that we're ready.\n",
              "      channel.send({})\n",
              "\n",
              "      for await (const message of channel.messages) {\n",
              "        // Send a message to notify the kernel that we're ready.\n",
              "        channel.send({})\n",
              "        if (message.buffers) {\n",
              "          for (const buffer of message.buffers) {\n",
              "            buffers.push(buffer);\n",
              "            downloaded += buffer.byteLength;\n",
              "            progress.value = downloaded;\n",
              "          }\n",
              "        }\n",
              "      }\n",
              "      const blob = new Blob(buffers, {type: 'application/binary'});\n",
              "      const a = document.createElement('a');\n",
              "      a.href = window.URL.createObjectURL(blob);\n",
              "      a.download = filename;\n",
              "      div.appendChild(a);\n",
              "      a.click();\n",
              "      div.remove();\n",
              "    }\n",
              "  "
            ],
            "text/plain": [
              "<IPython.core.display.Javascript object>"
            ]
          },
          "metadata": {
            "tags": []
          }
        },
        {
          "output_type": "display_data",
          "data": {
            "application/javascript": [
              "download(\"download_bf7d5bc9-91a7-404a-a5f9-20e5cb7c1457\", \"Lazada_certainty_price_1.csv\", 8353)"
            ],
            "text/plain": [
              "<IPython.core.display.Javascript object>"
            ]
          },
          "metadata": {
            "tags": []
          }
        }
      ]
    },
    {
      "cell_type": "code",
      "metadata": {
        "id": "YXOMZGlHHQr9"
      },
      "source": [
        "import requests\n",
        "Shopee_url = 'https://shopee.co.th'\n",
        "keyword_search = 'certainty'\n",
        "headers = {\n",
        " 'User-Agent': 'Chrome',\n",
        " 'Referer': '{}search?keyword={}'.format(Shopee_url, keyword_search)\n",
        "}\n",
        "url = 'https://shopee.co.th/api/v2/search_items/?by=relevancy&keyword={}%20ผ้าอ้อมผู้ใหญ่&noCorrection=true&officialMall=true&limit=100&newest=0&order=desc&page_type=search'.format(keyword_search)\n",
        "# Shopee API request\n",
        "r = requests.get(url, headers = headers).json()\n",
        "# Shopee scraping script\n",
        "titles_list = []\n",
        "prices_list = []\n",
        "for item in r['items']:\n",
        "    titles_list.append(item['name'])\n",
        "    prices_list.append(item['price_min'])"
      ],
      "execution_count": null,
      "outputs": []
    },
    {
      "cell_type": "code",
      "metadata": {
        "colab": {
          "base_uri": "https://localhost:8080/"
        },
        "id": "CssP5UzcHmOU",
        "outputId": "ce1a4761-3773-48c9-c02b-de6300eb8fe1"
      },
      "source": [
        "len(prices_list)"
      ],
      "execution_count": null,
      "outputs": [
        {
          "output_type": "execute_result",
          "data": {
            "text/plain": [
              "100"
            ]
          },
          "metadata": {
            "tags": []
          },
          "execution_count": 44
        }
      ]
    },
    {
      "cell_type": "code",
      "metadata": {
        "id": "v84K6YRxHnXJ"
      },
      "source": [
        "Shopee = pd.DataFrame(zip(titles_list, prices_list), columns=['ItemName', 'Price'])"
      ],
      "execution_count": null,
      "outputs": []
    },
    {
      "cell_type": "code",
      "metadata": {
        "colab": {
          "base_uri": "https://localhost:8080/",
          "height": 419
        },
        "id": "_zrthebcHqLa",
        "outputId": "1495a526-c99d-47e8-fc62-e1e038a534c2"
      },
      "source": [
        "Shopee"
      ],
      "execution_count": null,
      "outputs": [
        {
          "output_type": "execute_result",
          "data": {
            "text/html": [
              "<div>\n",
              "<style scoped>\n",
              "    .dataframe tbody tr th:only-of-type {\n",
              "        vertical-align: middle;\n",
              "    }\n",
              "\n",
              "    .dataframe tbody tr th {\n",
              "        vertical-align: top;\n",
              "    }\n",
              "\n",
              "    .dataframe thead th {\n",
              "        text-align: right;\n",
              "    }\n",
              "</style>\n",
              "<table border=\"1\" class=\"dataframe\">\n",
              "  <thead>\n",
              "    <tr style=\"text-align: right;\">\n",
              "      <th></th>\n",
              "      <th>ItemName</th>\n",
              "      <th>Price</th>\n",
              "    </tr>\n",
              "  </thead>\n",
              "  <tbody>\n",
              "    <tr>\n",
              "      <th>0</th>\n",
              "      <td>[เหลือ 619 โค้ด CERTV01] [ลังประหยัดสุดคุ้ม]เซ...</td>\n",
              "      <td>68900000</td>\n",
              "    </tr>\n",
              "    <tr>\n",
              "      <th>1</th>\n",
              "      <td>CERTAINTY GOLDPANTS  ผ้าอ้อมผู้ใหญ่ กางเกงซึมซ...</td>\n",
              "      <td>47900000</td>\n",
              "    </tr>\n",
              "    <tr>\n",
              "      <th>2</th>\n",
              "      <td>[เหลือ 1,134 โค้ด CERTV02][ลังประหยัด]CERTAINT...</td>\n",
              "      <td>127900000</td>\n",
              "    </tr>\n",
              "    <tr>\n",
              "      <th>3</th>\n",
              "      <td>[เหลือ 1,134 โค้ด CERTV02] [ลังประหยัด]CERTAIN...</td>\n",
              "      <td>127900000</td>\n",
              "    </tr>\n",
              "    <tr>\n",
              "      <th>4</th>\n",
              "      <td>[ใส่โค้ดรับคืน10%] เซอร์เทนตี้แบบเทป  M34/L30 ...</td>\n",
              "      <td>37900000</td>\n",
              "    </tr>\n",
              "    <tr>\n",
              "      <th>...</th>\n",
              "      <td>...</td>\n",
              "      <td>...</td>\n",
              "    </tr>\n",
              "    <tr>\n",
              "      <th>95</th>\n",
              "      <td>Certainty size L 30 ชิ้น ผ้าอ้อมผู้ใหญ่ เซอร์เ...</td>\n",
              "      <td>39900000</td>\n",
              "    </tr>\n",
              "    <tr>\n",
              "      <th>96</th>\n",
              "      <td>Certainty ผ้าอ้อมผู้ใหญ่ ขายส่ง ยกลัง เซอร์เทน...</td>\n",
              "      <td>118900000</td>\n",
              "    </tr>\n",
              "    <tr>\n",
              "      <th>97</th>\n",
              "      <td>(ยกลัง)กางเกงผ้าอ้อมผู้ใหญ่ M,L,XL certainty(ส...</td>\n",
              "      <td>139900000</td>\n",
              "    </tr>\n",
              "    <tr>\n",
              "      <th>98</th>\n",
              "      <td>ระบุไซส์CERTAINTY DAYPANTS กางเกงผ้าอ้อมผู้ใหญ...</td>\n",
              "      <td>43500000</td>\n",
              "    </tr>\n",
              "    <tr>\n",
              "      <th>99</th>\n",
              "      <td>[เหลือ 1,445 โค้ด CERTV03] [ลังประหยัด]CERTAIN...</td>\n",
              "      <td>164500000</td>\n",
              "    </tr>\n",
              "  </tbody>\n",
              "</table>\n",
              "<p>100 rows × 2 columns</p>\n",
              "</div>"
            ],
            "text/plain": [
              "                                             ItemName      Price\n",
              "0   [เหลือ 619 โค้ด CERTV01] [ลังประหยัดสุดคุ้ม]เซ...   68900000\n",
              "1   CERTAINTY GOLDPANTS  ผ้าอ้อมผู้ใหญ่ กางเกงซึมซ...   47900000\n",
              "2   [เหลือ 1,134 โค้ด CERTV02][ลังประหยัด]CERTAINT...  127900000\n",
              "3   [เหลือ 1,134 โค้ด CERTV02] [ลังประหยัด]CERTAIN...  127900000\n",
              "4   [ใส่โค้ดรับคืน10%] เซอร์เทนตี้แบบเทป  M34/L30 ...   37900000\n",
              "..                                                ...        ...\n",
              "95  Certainty size L 30 ชิ้น ผ้าอ้อมผู้ใหญ่ เซอร์เ...   39900000\n",
              "96  Certainty ผ้าอ้อมผู้ใหญ่ ขายส่ง ยกลัง เซอร์เทน...  118900000\n",
              "97  (ยกลัง)กางเกงผ้าอ้อมผู้ใหญ่ M,L,XL certainty(ส...  139900000\n",
              "98  ระบุไซส์CERTAINTY DAYPANTS กางเกงผ้าอ้อมผู้ใหญ...   43500000\n",
              "99  [เหลือ 1,445 โค้ด CERTV03] [ลังประหยัด]CERTAIN...  164500000\n",
              "\n",
              "[100 rows x 2 columns]"
            ]
          },
          "metadata": {
            "tags": []
          },
          "execution_count": 46
        }
      ]
    },
    {
      "cell_type": "code",
      "metadata": {
        "id": "-pbaNqGJQkMr"
      },
      "source": [
        "Shopee['Price'] = Shopee['Price'] / 100000"
      ],
      "execution_count": null,
      "outputs": []
    },
    {
      "cell_type": "code",
      "metadata": {
        "id": "rPpZ2beHHuS5"
      },
      "source": [
        "Shopee = Shopee[Shopee['ItemName'].str.contains('ยกลัง') == False]\n",
        "Shopee = Shopee[Shopee['ItemName'].str.contains('ลังประหยัด') == False]"
      ],
      "execution_count": null,
      "outputs": []
    },
    {
      "cell_type": "code",
      "metadata": {
        "colab": {
          "base_uri": "https://localhost:8080/",
          "height": 419
        },
        "id": "0l2uFytvH0sZ",
        "outputId": "ddd78ba1-895e-47f8-b7ba-dbda8c79892a"
      },
      "source": [
        "Shopee"
      ],
      "execution_count": null,
      "outputs": [
        {
          "output_type": "execute_result",
          "data": {
            "text/html": [
              "<div>\n",
              "<style scoped>\n",
              "    .dataframe tbody tr th:only-of-type {\n",
              "        vertical-align: middle;\n",
              "    }\n",
              "\n",
              "    .dataframe tbody tr th {\n",
              "        vertical-align: top;\n",
              "    }\n",
              "\n",
              "    .dataframe thead th {\n",
              "        text-align: right;\n",
              "    }\n",
              "</style>\n",
              "<table border=\"1\" class=\"dataframe\">\n",
              "  <thead>\n",
              "    <tr style=\"text-align: right;\">\n",
              "      <th></th>\n",
              "      <th>ItemName</th>\n",
              "      <th>Price</th>\n",
              "    </tr>\n",
              "  </thead>\n",
              "  <tbody>\n",
              "    <tr>\n",
              "      <th>0</th>\n",
              "      <td>[เหลือ 619 โค้ด CERTV01] [ลังประหยัดสุดคุ้ม]เซ...</td>\n",
              "      <td>689.0</td>\n",
              "    </tr>\n",
              "    <tr>\n",
              "      <th>1</th>\n",
              "      <td>CERTAINTY GOLDPANTS  ผ้าอ้อมผู้ใหญ่ กางเกงซึมซ...</td>\n",
              "      <td>479.0</td>\n",
              "    </tr>\n",
              "    <tr>\n",
              "      <th>2</th>\n",
              "      <td>[เหลือ 1,134 โค้ด CERTV02][ลังประหยัด]CERTAINT...</td>\n",
              "      <td>1279.0</td>\n",
              "    </tr>\n",
              "    <tr>\n",
              "      <th>3</th>\n",
              "      <td>[เหลือ 1,134 โค้ด CERTV02] [ลังประหยัด]CERTAIN...</td>\n",
              "      <td>1279.0</td>\n",
              "    </tr>\n",
              "    <tr>\n",
              "      <th>4</th>\n",
              "      <td>[ใส่โค้ดรับคืน10%] เซอร์เทนตี้แบบเทป  M34/L30 ...</td>\n",
              "      <td>379.0</td>\n",
              "    </tr>\n",
              "    <tr>\n",
              "      <th>...</th>\n",
              "      <td>...</td>\n",
              "      <td>...</td>\n",
              "    </tr>\n",
              "    <tr>\n",
              "      <th>95</th>\n",
              "      <td>Certainty size L 30 ชิ้น ผ้าอ้อมผู้ใหญ่ เซอร์เ...</td>\n",
              "      <td>399.0</td>\n",
              "    </tr>\n",
              "    <tr>\n",
              "      <th>96</th>\n",
              "      <td>Certainty ผ้าอ้อมผู้ใหญ่ ขายส่ง ยกลัง เซอร์เทน...</td>\n",
              "      <td>1189.0</td>\n",
              "    </tr>\n",
              "    <tr>\n",
              "      <th>97</th>\n",
              "      <td>(ยกลัง)กางเกงผ้าอ้อมผู้ใหญ่ M,L,XL certainty(ส...</td>\n",
              "      <td>1399.0</td>\n",
              "    </tr>\n",
              "    <tr>\n",
              "      <th>98</th>\n",
              "      <td>ระบุไซส์CERTAINTY DAYPANTS กางเกงผ้าอ้อมผู้ใหญ...</td>\n",
              "      <td>435.0</td>\n",
              "    </tr>\n",
              "    <tr>\n",
              "      <th>99</th>\n",
              "      <td>[เหลือ 1,445 โค้ด CERTV03] [ลังประหยัด]CERTAIN...</td>\n",
              "      <td>1645.0</td>\n",
              "    </tr>\n",
              "  </tbody>\n",
              "</table>\n",
              "<p>100 rows × 2 columns</p>\n",
              "</div>"
            ],
            "text/plain": [
              "                                             ItemName   Price\n",
              "0   [เหลือ 619 โค้ด CERTV01] [ลังประหยัดสุดคุ้ม]เซ...   689.0\n",
              "1   CERTAINTY GOLDPANTS  ผ้าอ้อมผู้ใหญ่ กางเกงซึมซ...   479.0\n",
              "2   [เหลือ 1,134 โค้ด CERTV02][ลังประหยัด]CERTAINT...  1279.0\n",
              "3   [เหลือ 1,134 โค้ด CERTV02] [ลังประหยัด]CERTAIN...  1279.0\n",
              "4   [ใส่โค้ดรับคืน10%] เซอร์เทนตี้แบบเทป  M34/L30 ...   379.0\n",
              "..                                                ...     ...\n",
              "95  Certainty size L 30 ชิ้น ผ้าอ้อมผู้ใหญ่ เซอร์เ...   399.0\n",
              "96  Certainty ผ้าอ้อมผู้ใหญ่ ขายส่ง ยกลัง เซอร์เทน...  1189.0\n",
              "97  (ยกลัง)กางเกงผ้าอ้อมผู้ใหญ่ M,L,XL certainty(ส...  1399.0\n",
              "98  ระบุไซส์CERTAINTY DAYPANTS กางเกงผ้าอ้อมผู้ใหญ...   435.0\n",
              "99  [เหลือ 1,445 โค้ด CERTV03] [ลังประหยัด]CERTAIN...  1645.0\n",
              "\n",
              "[100 rows x 2 columns]"
            ]
          },
          "metadata": {
            "tags": []
          },
          "execution_count": 48
        }
      ]
    },
    {
      "cell_type": "code",
      "metadata": {
        "id": "7-XjxZyfRrDT",
        "colab": {
          "base_uri": "https://localhost:8080/",
          "height": 17
        },
        "outputId": "9f3bc6d0-f2a3-41ba-8340-ef067354faa3"
      },
      "source": [
        "Shopee['Platform'] = 'Shopee'\n",
        "Shopee.to_csv('Shopee_certainty_price.csv', encoding = 'utf-8-sig',index = False)\n",
        "files.download('Shopee_certainty_price.csv')"
      ],
      "execution_count": null,
      "outputs": [
        {
          "output_type": "display_data",
          "data": {
            "application/javascript": [
              "\n",
              "    async function download(id, filename, size) {\n",
              "      if (!google.colab.kernel.accessAllowed) {\n",
              "        return;\n",
              "      }\n",
              "      const div = document.createElement('div');\n",
              "      const label = document.createElement('label');\n",
              "      label.textContent = `Downloading \"${filename}\": `;\n",
              "      div.appendChild(label);\n",
              "      const progress = document.createElement('progress');\n",
              "      progress.max = size;\n",
              "      div.appendChild(progress);\n",
              "      document.body.appendChild(div);\n",
              "\n",
              "      const buffers = [];\n",
              "      let downloaded = 0;\n",
              "\n",
              "      const channel = await google.colab.kernel.comms.open(id);\n",
              "      // Send a message to notify the kernel that we're ready.\n",
              "      channel.send({})\n",
              "\n",
              "      for await (const message of channel.messages) {\n",
              "        // Send a message to notify the kernel that we're ready.\n",
              "        channel.send({})\n",
              "        if (message.buffers) {\n",
              "          for (const buffer of message.buffers) {\n",
              "            buffers.push(buffer);\n",
              "            downloaded += buffer.byteLength;\n",
              "            progress.value = downloaded;\n",
              "          }\n",
              "        }\n",
              "      }\n",
              "      const blob = new Blob(buffers, {type: 'application/binary'});\n",
              "      const a = document.createElement('a');\n",
              "      a.href = window.URL.createObjectURL(blob);\n",
              "      a.download = filename;\n",
              "      div.appendChild(a);\n",
              "      a.click();\n",
              "      div.remove();\n",
              "    }\n",
              "  "
            ],
            "text/plain": [
              "<IPython.core.display.Javascript object>"
            ]
          },
          "metadata": {
            "tags": []
          }
        },
        {
          "output_type": "display_data",
          "data": {
            "application/javascript": [
              "download(\"download_bf12d4c2-ae2f-4760-bf34-09a008a364f9\", \"Shopee_certainty_price.csv\", 20819)"
            ],
            "text/plain": [
              "<IPython.core.display.Javascript object>"
            ]
          },
          "metadata": {
            "tags": []
          }
        }
      ]
    },
    {
      "cell_type": "code",
      "metadata": {
        "id": "2Tr8YMNkH3Tk"
      },
      "source": [
        "# Concatenate the Dataframes\n",
        "df = pd.concat([dfL,Shopee])"
      ],
      "execution_count": null,
      "outputs": []
    },
    {
      "cell_type": "code",
      "metadata": {
        "colab": {
          "base_uri": "https://localhost:8080/",
          "height": 173
        },
        "id": "4o7BJ-_4IFth",
        "outputId": "b54b3e93-d6d1-43e3-f5d3-7e0574a5abb4"
      },
      "source": [
        "df.groupby(['Platform']).describe()"
      ],
      "execution_count": null,
      "outputs": [
        {
          "output_type": "execute_result",
          "data": {
            "text/html": [
              "<div>\n",
              "<style scoped>\n",
              "    .dataframe tbody tr th:only-of-type {\n",
              "        vertical-align: middle;\n",
              "    }\n",
              "\n",
              "    .dataframe tbody tr th {\n",
              "        vertical-align: top;\n",
              "    }\n",
              "\n",
              "    .dataframe thead tr th {\n",
              "        text-align: left;\n",
              "    }\n",
              "\n",
              "    .dataframe thead tr:last-of-type th {\n",
              "        text-align: right;\n",
              "    }\n",
              "</style>\n",
              "<table border=\"1\" class=\"dataframe\">\n",
              "  <thead>\n",
              "    <tr>\n",
              "      <th></th>\n",
              "      <th colspan=\"8\" halign=\"left\">Price</th>\n",
              "    </tr>\n",
              "    <tr>\n",
              "      <th></th>\n",
              "      <th>count</th>\n",
              "      <th>mean</th>\n",
              "      <th>std</th>\n",
              "      <th>min</th>\n",
              "      <th>25%</th>\n",
              "      <th>50%</th>\n",
              "      <th>75%</th>\n",
              "      <th>max</th>\n",
              "    </tr>\n",
              "    <tr>\n",
              "      <th>Platform</th>\n",
              "      <th></th>\n",
              "      <th></th>\n",
              "      <th></th>\n",
              "      <th></th>\n",
              "      <th></th>\n",
              "      <th></th>\n",
              "      <th></th>\n",
              "      <th></th>\n",
              "    </tr>\n",
              "  </thead>\n",
              "  <tbody>\n",
              "    <tr>\n",
              "      <th>Lazada</th>\n",
              "      <td>37.0</td>\n",
              "      <td>183.153243</td>\n",
              "      <td>89.502505</td>\n",
              "      <td>49.0</td>\n",
              "      <td>109.0</td>\n",
              "      <td>169.0</td>\n",
              "      <td>224.0</td>\n",
              "      <td>420.0</td>\n",
              "    </tr>\n",
              "    <tr>\n",
              "      <th>Shopee</th>\n",
              "      <td>90.0</td>\n",
              "      <td>187.600000</td>\n",
              "      <td>164.724407</td>\n",
              "      <td>15.0</td>\n",
              "      <td>94.0</td>\n",
              "      <td>135.0</td>\n",
              "      <td>238.0</td>\n",
              "      <td>897.0</td>\n",
              "    </tr>\n",
              "  </tbody>\n",
              "</table>\n",
              "</div>"
            ],
            "text/plain": [
              "         Price                                                          \n",
              "         count        mean         std   min    25%    50%    75%    max\n",
              "Platform                                                                \n",
              "Lazada    37.0  183.153243   89.502505  49.0  109.0  169.0  224.0  420.0\n",
              "Shopee    90.0  187.600000  164.724407  15.0   94.0  135.0  238.0  897.0"
            ]
          },
          "metadata": {
            "tags": []
          },
          "execution_count": 24
        }
      ]
    },
    {
      "cell_type": "code",
      "metadata": {
        "colab": {
          "base_uri": "https://localhost:8080/",
          "height": 301
        },
        "id": "1UdTWOVpIYUg",
        "outputId": "2a556b4e-cee7-43b4-a79e-da08f510c2a4"
      },
      "source": [
        "sns.set()\n",
        "_ = sns.boxplot(x='Platform', y='Price', data=df)\n",
        "_ = plt.title('Comparison of price between E-commerce')\n",
        "_ = plt.ylabel('Price (THB)')\n",
        "_ = plt.xlabel('E-commerce Platform')\n",
        "# Show the plot\n",
        "plt.ylim(10, 600)\n",
        "plt.show()"
      ],
      "execution_count": null,
      "outputs": [
        {
          "output_type": "display_data",
          "data": {
            "image/png": "[encoded data removed]",
            "text/plain": [
              "<Figure size 432x288 with 1 Axes>"
            ]
          },
          "metadata": {
            "tags": []
          }
        }
      ]
    }
  ]
}